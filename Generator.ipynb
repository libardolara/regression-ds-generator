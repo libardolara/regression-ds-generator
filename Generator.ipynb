{
 "cells": [
  {
   "source": [
    "# Dataset Generator for regressions"
   ],
   "cell_type": "markdown",
   "metadata": {}
  },
  {
   "source": [
    "This notebook is used to generate dataset for regressions."
   ],
   "cell_type": "markdown",
   "metadata": {}
  },
  {
   "source": [
    "## Testing Distributions"
   ],
   "cell_type": "markdown",
   "metadata": {}
  },
  {
   "cell_type": "code",
   "execution_count": 1,
   "metadata": {},
   "outputs": [],
   "source": [
    "import pandas as pd\n",
    "import numpy as np\n",
    "import matplotlib.pyplot as plt\n",
    "from scipy import stats"
   ]
  },
  {
   "cell_type": "code",
   "execution_count": 476,
   "metadata": {},
   "outputs": [],
   "source": [
    "mu, sigma = 2, 2 # mean and standard deviation\n",
    "s = np.random.normal( mu, sigma , 3000 )\n",
    "s = 5 * ( s + abs(min(s)) ) / ( max(s) - min(s) )\n",
    "s = s.round(0)\n",
    "s = np.where(s == max(s), min(s), s) \n",
    "s = np.where(s == max(s), min(s), s) "
   ]
  },
  {
   "cell_type": "code",
   "execution_count": 477,
   "metadata": {},
   "outputs": [
    {
     "name": "stdout",
     "output_type": "stream",
     "text": [
      "[3. 3. 2. ... 3. 2. 2.]\n",
      "ModeResult(mode=array([2.]), count=array([1225]))\n",
      "3.0\n",
      "0.0\n"
     ]
    }
   ],
   "source": [
    "print(s)\n",
    "print(stats.mode(s))\n",
    "print(max(s))\n",
    "print(min(s))"
   ]
  },
  {
   "cell_type": "code",
   "execution_count": 478,
   "metadata": {},
   "outputs": [
    {
     "data": {
      "image/png": "[encoded data removed]",
      "text/plain": [
       "<Figure size 432x288 with 1 Axes>"
      ]
     },
     "metadata": {
      "needs_background": "light"
     },
     "output_type": "display_data"
    }
   ],
   "source": [
    "count, bins, ignored = plt.hist(s, 30, density=True)\n",
    "plt.plot(bins, 1/(sigma * np.sqrt(2 * np.pi)) *\n",
    "np.exp( - (bins - mu)**2 / (2 * sigma**2) ),\n",
    "linewidth = 2, color='r')\n",
    "plt.show()"
   ]
  },
  {
   "cell_type": "code",
   "execution_count": 15,
   "metadata": {},
   "outputs": [
    {
     "data": {
      "text/plain": [
       "1.0"
      ]
     },
     "execution_count": 15,
     "metadata": {},
     "output_type": "execute_result"
    }
   ],
   "source": [
    "round(np.random.uniform(0,1),0)"
   ]
  },
  {
   "source": [
    "## Definition of mathematical functions to generate relationships between features and target"
   ],
   "cell_type": "markdown",
   "metadata": {}
  },
  {
   "cell_type": "code",
   "execution_count": 2,
   "metadata": {},
   "outputs": [],
   "source": [
    "def eval_line(x, f, r):\n",
    "    '''\n",
    "    Function to generate an imperfect line\n",
    "    x: The point of evaluation\n",
    "    f: The function defined like a tuple (m, b) of m*x + b\n",
    "    r: The grade of the imperfection [-r,r]\n",
    "    returns m*x + b +- r\n",
    "    '''\n",
    "    m,b = f\n",
    "    return m*x + b + np.random.uniform(-r,r)"
   ]
  },
  {
   "cell_type": "code",
   "execution_count": 41,
   "metadata": {},
   "outputs": [
    {
     "data": {
      "text/plain": [
       "4.962723793493029"
      ]
     },
     "execution_count": 41,
     "metadata": {},
     "output_type": "execute_result"
    }
   ],
   "source": [
    "eval_line(5,(1,0),0.1)"
   ]
  },
  {
   "cell_type": "code",
   "execution_count": 3,
   "metadata": {},
   "outputs": [],
   "source": [
    "def eval_parable(x, f, r):\n",
    "    '''\n",
    "    Function to generate an imperfect parable\n",
    "    x: The point of evaluation\n",
    "    f: The function defined like a tuple (m1, m2, b) of m1*x**2 + m2*x + b\n",
    "    r: The grade of the imperfection [-r,r]\n",
    "    returns m1*x**2 + m2*x + b +- r\n",
    "    '''\n",
    "    m1, m2, b = f\n",
    "    return m1*x**2 + m2*x + b + np.random.uniform(-r,r)"
   ]
  },
  {
   "cell_type": "code",
   "execution_count": 53,
   "metadata": {},
   "outputs": [
    {
     "data": {
      "text/plain": [
       "11.97792312999321"
      ]
     },
     "execution_count": 53,
     "metadata": {},
     "output_type": "execute_result"
    }
   ],
   "source": [
    "eval_parable(3,(1,1,0),0.1)"
   ]
  },
  {
   "cell_type": "code",
   "execution_count": 4,
   "metadata": {},
   "outputs": [],
   "source": [
    "def eval_tri_pol(x, f, r):\n",
    "    '''\n",
    "    Function to generate an imperfect parable\n",
    "    x: The point of evaluation\n",
    "    f: The function defined like a tuple (m1, m2, m3, b) of m1*x**3 + m2*x**2 + m3*x + b\n",
    "    r: The grade of the imperfection [-r,r]\n",
    "    returns m1*x**3 + m2*x**2 + m3*x + b +- r\n",
    "    '''\n",
    "    m1, m2, m3, b = f\n",
    "    return m1*x**3 + m2*x**2 + m3*x + b + np.random.uniform(-r,r)"
   ]
  },
  {
   "cell_type": "code",
   "execution_count": 61,
   "metadata": {},
   "outputs": [
    {
     "data": {
      "text/plain": [
       "3.0027308642218404"
      ]
     },
     "execution_count": 61,
     "metadata": {},
     "output_type": "execute_result"
    }
   ],
   "source": [
    "eval_tri_pol(1,(1,1,1,0),0.1)"
   ]
  },
  {
   "cell_type": "code",
   "execution_count": 5,
   "metadata": {},
   "outputs": [],
   "source": [
    "def eval_log(x, f, r):\n",
    "    '''\n",
    "    Function to generate an imperfect logarithm base 10\n",
    "    x: The point of evaluation\n",
    "    f: The function defined like a tuple (m1, m2, b) of m1*log(m2*x) + b\n",
    "    r: The grade of the imperfection [-r,r]\n",
    "    returns m1*log(m2*x) + b +- r\n",
    "    '''\n",
    "    m1, m2, b = f\n",
    "    return m1*np.log10(m2*x) + b + np.random.uniform(-r,r)"
   ]
  },
  {
   "cell_type": "code",
   "execution_count": 135,
   "metadata": {},
   "outputs": [
    {
     "data": {
      "text/plain": [
       "0.5322026907858992"
      ]
     },
     "execution_count": 135,
     "metadata": {},
     "output_type": "execute_result"
    }
   ],
   "source": [
    "eval_log(3,(1,1,0),0.1)"
   ]
  },
  {
   "cell_type": "code",
   "execution_count": 5,
   "metadata": {},
   "outputs": [],
   "source": [
    "def eval_sigmoid(x, f, r):\n",
    "    '''\n",
    "    Function to generate an imperfect sigmoid \n",
    "    x: The point of evaluation\n",
    "    f: The function defined like a tuple (m1, m2, b) of m1/(1 + e**-m2*x) + b\n",
    "    r: The grade of the imperfection [-r,r]\n",
    "    returns m1/(m2 + e**-x) + b +- r\n",
    "    '''    \n",
    "    m1, m2, b = f\n",
    "    return m1/(1 + np.exp(-m2*x) )+ b + np.random.uniform(-r,r)"
   ]
  },
  {
   "cell_type": "code",
   "execution_count": 154,
   "metadata": {},
   "outputs": [
    {
     "data": {
      "text/plain": [
       "1.0"
      ]
     },
     "execution_count": 154,
     "metadata": {},
     "output_type": "execute_result"
    }
   ],
   "source": [
    "eval_sigmoid(100,(1,1,0),0.1)"
   ]
  },
  {
   "cell_type": "code",
   "execution_count": 6,
   "metadata": {},
   "outputs": [],
   "source": [
    "def eval_sin(x, f, r):\n",
    "    '''\n",
    "    Function to generate an imperfect sin \n",
    "    x: The point of evaluation\n",
    "    f: The function defined like a tuple (m1, m2, b) of m1*sin(m2*x) + b\n",
    "    r: The grade of the imperfection [-r,r]\n",
    "    returns m1/(m2 + e**-x) + b +- r\n",
    "    '''    \n",
    "    m1, m2, b = f\n",
    "    return m1*np.sin(m2*x) + b + np.random.uniform(-r,r)"
   ]
  },
  {
   "cell_type": "code",
   "execution_count": 256,
   "metadata": {},
   "outputs": [
    {
     "data": {
      "text/plain": [
       "1.0596390596980396"
      ]
     },
     "execution_count": 256,
     "metadata": {},
     "output_type": "execute_result"
    }
   ],
   "source": [
    "eval_sigmoid(100,(1,1,0),0.1)"
   ]
  },
  {
   "cell_type": "code",
   "execution_count": 99,
   "metadata": {},
   "outputs": [
    {
     "data": {
      "text/plain": [
       "15.331423124029739"
      ]
     },
     "execution_count": 99,
     "metadata": {},
     "output_type": "execute_result"
    }
   ],
   "source": [
    "np.mean( [eval_parable(5,(1,1,0),0.1) , eval_log(5,(1,1,0),0.1)])"
   ]
  },
  {
   "source": [
    "## Testing a function"
   ],
   "cell_type": "markdown",
   "metadata": {}
  },
  {
   "cell_type": "code",
   "execution_count": 664,
   "metadata": {},
   "outputs": [],
   "source": [
    "x = [ num for num in range(1,270) ]"
   ]
  },
  {
   "cell_type": "code",
   "execution_count": 671,
   "metadata": {},
   "outputs": [],
   "source": [
    "y = [ np.mean( [  eval_sigmoid(num,(270,4/270,0),1)]) for num in x]"
   ]
  },
  {
   "cell_type": "code",
   "execution_count": 673,
   "metadata": {},
   "outputs": [
    {
     "data": {
      "image/png": "[encoded data removed]",
      "text/plain": [
       "<Figure size 432x288 with 1 Axes>"
      ]
     },
     "metadata": {
      "needs_background": "light"
     },
     "output_type": "display_data"
    }
   ],
   "source": [
    "plt.scatter(x, y, color = 'red')\n",
    "#plt.plot(x, y, color = 'blue')\n",
    "plt.title('x vs y (Training set)')\n",
    "plt.xlabel('Years of Experience')\n",
    "plt.ylabel('Salary')\n",
    "plt.show()"
   ]
  },
  {
   "source": [
    "## Defining the Independent Vairiables"
   ],
   "cell_type": "markdown",
   "metadata": {}
  },
  {
   "cell_type": "code",
   "execution_count": 7,
   "metadata": {},
   "outputs": [],
   "source": [
    "indep = {\n",
    "    'EDAD': (34,5, [lambda s: s.round(0)]) ,\n",
    "    'GENERO': (0.55,0.1, [lambda s: s.round(0)]),  # Round (0)\n",
    "    'RESIDENCIA': (2,2, [lambda s : 4 * (s + abs(min(s))) / ( max(s) - min(s) ), lambda s: s.round(0), lambda s: np.where(s== max(s), min(s), s), lambda s: np.where(s== max(s), min(s), s)]),   # s = np.where(s== max(s), min(s), s) <= Round(0)  <= s = 3 * (s + abs(min(s))) / ( max(s) - min(s) ) (BR, AR, MX)\n",
    "    'NV_ESTUDIO': (2,2, [lambda s : 4 * (s + abs(min(s))) / ( max(s) - min(s) ), lambda s: s.round(0), lambda s: np.where(s== max(s), min(s), s)]), # s = np.where(s== max(s), min(s), s) <= Round(0)  <= s = 4 * (s + abs(min(s))) / ( max(s) - min(s) ) (HS, TE, UN, PS)\n",
    "    'ESTUDIO_PREV': (2,2, [lambda s : 6 * (s + abs(min(s))) / ( max(s) - min(s) ), lambda s: s.round(0), lambda s: np.where(s== max(s), min(s), s)]), # s = np.where(s== max(s), min(s), s) <= Round(0)  <= s = 6 * (s + abs(min(s))) / ( max(s) - min(s) ) (BU, COM, DEV, ENG, MK, O)\n",
    "    #'EXPERIENCIA': (6,1.5, [lambda s: s.round(0)]), # Round (0)\n",
    "    'TRACK_DH': (2,2, [lambda s : 5 * (s + abs(min(s))) / ( max(s) - min(s) ), lambda s: s.round(0), lambda s: np.where(s== max(s), min(s), s), lambda s: np.where(s== max(s), min(s), s)]), # s = np.where(s== max(s), min(s), s) <= Round(0)  <= s = 4 * (s + abs(min(s))) / ( max(s) - min(s) ) (MK, EX, PR, DT)\n",
    "    'AVG_DH' : (3.5, 0.4, [lambda s: s.round(1)]) # Round (1)\n",
    "        }"
   ]
  },
  {
   "cell_type": "code",
   "execution_count": 8,
   "metadata": {},
   "outputs": [
    {
     "name": "stdout",
     "output_type": "stream",
     "text": [
      "EDAD (34, 5, [<function <lambda> at 0x7fed41e760d0>])\n"
     ]
    },
    {
     "data": {
      "image/png": "[encoded data removed]",
      "text/plain": [
       "<Figure size 432x288 with 1 Axes>"
      ]
     },
     "metadata": {
      "needs_background": "light"
     },
     "output_type": "display_data"
    },
    {
     "name": "stdout",
     "output_type": "stream",
     "text": [
      "GENERO (0.55, 0.1, [<function <lambda> at 0x7fed41e55950>])\n"
     ]
    },
    {
     "data": {
      "image/png": "[encoded data removed]",
      "text/plain": [
       "<Figure size 432x288 with 1 Axes>"
      ]
     },
     "metadata": {
      "needs_background": "light"
     },
     "output_type": "display_data"
    },
    {
     "name": "stdout",
     "output_type": "stream",
     "text": [
      "RESIDENCIA (2, 2, [<function <lambda> at 0x7fed4144de18>, <function <lambda> at 0x7fed413b6620>, <function <lambda> at 0x7fed41e8e7b8>, <function <lambda> at 0x7fed41e8e730>])\n"
     ]
    },
    {
     "data": {
      "image/png": "[encoded data removed]",
      "text/plain": [
       "<Figure size 432x288 with 1 Axes>"
      ]
     },
     "metadata": {
      "needs_background": "light"
     },
     "output_type": "display_data"
    },
    {
     "name": "stdout",
     "output_type": "stream",
     "text": [
      "NV_ESTUDIO (2, 2, [<function <lambda> at 0x7fed41e8e6a8>, <function <lambda> at 0x7fed41e8e840>, <function <lambda> at 0x7fed41e8e8c8>])\n"
     ]
    },
    {
     "data": {
      "image/png": "[encoded data removed]",
      "text/plain": [
       "<Figure size 432x288 with 1 Axes>"
      ]
     },
     "metadata": {
      "needs_background": "light"
     },
     "output_type": "display_data"
    },
    {
     "name": "stdout",
     "output_type": "stream",
     "text": [
      "ESTUDIO_PREV (2, 2, [<function <lambda> at 0x7fed41e8e950>, <function <lambda> at 0x7fed41e8e9d8>, <function <lambda> at 0x7fed41e8ea60>])\n"
     ]
    },
    {
     "data": {
      "image/png": "[encoded data removed]",
      "text/plain": [
       "<Figure size 432x288 with 1 Axes>"
      ]
     },
     "metadata": {
      "needs_background": "light"
     },
     "output_type": "display_data"
    },
    {
     "name": "stdout",
     "output_type": "stream",
     "text": [
      "TRACK_DH (2, 2, [<function <lambda> at 0x7fed41e8eae8>, <function <lambda> at 0x7fed41e8eb70>, <function <lambda> at 0x7fed41e8ebf8>, <function <lambda> at 0x7fed41e8ec80>])\n"
     ]
    },
    {
     "data": {
      "image/png": "[encoded data removed]",
      "text/plain": [
       "<Figure size 432x288 with 1 Axes>"
      ]
     },
     "metadata": {
      "needs_background": "light"
     },
     "output_type": "display_data"
    },
    {
     "name": "stdout",
     "output_type": "stream",
     "text": [
      "AVG_DH (3.5, 0.4, [<function <lambda> at 0x7fed41e8ed08>])\n"
     ]
    },
    {
     "data": {
      "image/png": "[encoded data removed]",
      "text/plain": [
       "<Figure size 432x288 with 1 Axes>"
      ]
     },
     "metadata": {
      "needs_background": "light"
     },
     "output_type": "display_data"
    }
   ],
   "source": [
    "dataset = pd.DataFrame()\n",
    "size = 1000\n",
    "for name, stats in indep.items():\n",
    "    print (name,stats)\n",
    "    mu, sigma, functions = stats \n",
    "    s = np.random.normal( mu , sigma , size )\n",
    "    if functions is not None:\n",
    "        for func in functions:\n",
    "            s = func(s)\n",
    "    \n",
    "    \n",
    "    dataset[name] =  s\n",
    "    count, bins, ignored = plt.hist(s, 30, density=True)\n",
    "    plt.plot(bins, 1/(sigma * np.sqrt(2 * np.pi)) *\n",
    "    np.exp( - (bins - mu)**2 / (2 * sigma**2) ),\n",
    "    linewidth=2, color='r')\n",
    "    plt.show()"
   ]
  },
  {
   "cell_type": "code",
   "execution_count": 10,
   "metadata": {},
   "outputs": [
    {
     "data": {
      "text/html": [
       "<div>\n",
       "<style scoped>\n",
       "    .dataframe tbody tr th:only-of-type {\n",
       "        vertical-align: middle;\n",
       "    }\n",
       "\n",
       "    .dataframe tbody tr th {\n",
       "        vertical-align: top;\n",
       "    }\n",
       "\n",
       "    .dataframe thead th {\n",
       "        text-align: right;\n",
       "    }\n",
       "</style>\n",
       "<table border=\"1\" class=\"dataframe\">\n",
       "  <thead>\n",
       "    <tr style=\"text-align: right;\">\n",
       "      <th></th>\n",
       "      <th>EDAD</th>\n",
       "      <th>GENERO</th>\n",
       "      <th>RESIDENCIA</th>\n",
       "      <th>NV_ESTUDIO</th>\n",
       "      <th>ESTUDIO_PREV</th>\n",
       "      <th>TRACK_DH</th>\n",
       "      <th>AVG_DH</th>\n",
       "    </tr>\n",
       "  </thead>\n",
       "  <tbody>\n",
       "    <tr>\n",
       "      <th>0</th>\n",
       "      <td>30.0</td>\n",
       "      <td>1.0</td>\n",
       "      <td>0.0</td>\n",
       "      <td>1.0</td>\n",
       "      <td>4.0</td>\n",
       "      <td>2.0</td>\n",
       "      <td>3.4</td>\n",
       "    </tr>\n",
       "    <tr>\n",
       "      <th>1</th>\n",
       "      <td>31.0</td>\n",
       "      <td>1.0</td>\n",
       "      <td>0.0</td>\n",
       "      <td>2.0</td>\n",
       "      <td>5.0</td>\n",
       "      <td>3.0</td>\n",
       "      <td>3.7</td>\n",
       "    </tr>\n",
       "    <tr>\n",
       "      <th>2</th>\n",
       "      <td>37.0</td>\n",
       "      <td>0.0</td>\n",
       "      <td>0.0</td>\n",
       "      <td>2.0</td>\n",
       "      <td>4.0</td>\n",
       "      <td>3.0</td>\n",
       "      <td>3.3</td>\n",
       "    </tr>\n",
       "    <tr>\n",
       "      <th>3</th>\n",
       "      <td>42.0</td>\n",
       "      <td>1.0</td>\n",
       "      <td>2.0</td>\n",
       "      <td>1.0</td>\n",
       "      <td>3.0</td>\n",
       "      <td>2.0</td>\n",
       "      <td>3.5</td>\n",
       "    </tr>\n",
       "    <tr>\n",
       "      <th>4</th>\n",
       "      <td>32.0</td>\n",
       "      <td>1.0</td>\n",
       "      <td>2.0</td>\n",
       "      <td>1.0</td>\n",
       "      <td>4.0</td>\n",
       "      <td>2.0</td>\n",
       "      <td>4.0</td>\n",
       "    </tr>\n",
       "  </tbody>\n",
       "</table>\n",
       "</div>"
      ],
      "text/plain": [
       "   EDAD  GENERO  RESIDENCIA  NV_ESTUDIO  ESTUDIO_PREV  TRACK_DH  AVG_DH\n",
       "0  30.0     1.0         0.0         1.0           4.0       2.0     3.4\n",
       "1  31.0     1.0         0.0         2.0           5.0       3.0     3.7\n",
       "2  37.0     0.0         0.0         2.0           4.0       3.0     3.3\n",
       "3  42.0     1.0         2.0         1.0           3.0       2.0     3.5\n",
       "4  32.0     1.0         2.0         1.0           4.0       2.0     4.0"
      ]
     },
     "execution_count": 10,
     "metadata": {},
     "output_type": "execute_result"
    }
   ],
   "source": [
    "dataset.head()"
   ]
  },
  {
   "cell_type": "code",
   "execution_count": null,
   "metadata": {},
   "outputs": [],
   "source": [
    "#eval_parable(3,(1,1,0),0.1)"
   ]
  },
  {
   "source": [
    "## Definig the dependent variable"
   ],
   "cell_type": "markdown",
   "metadata": {}
  },
  {
   "cell_type": "code",
   "execution_count": 9,
   "metadata": {},
   "outputs": [],
   "source": [
    "depend = {\n",
    "    'MINUTES_DH': [(eval_parable, 'AVG_DH', (300,90,50), 100, lambda s: s.round(1)), (eval_sin, 'AVG_DH', (900,2.5,0), 10, lambda s: s.round(1))],\n",
    "    'EXPERIENCIA': [(eval_line, 'EDAD', (-0.285,24.25), 1, lambda s: s.round(1)), (eval_sin, 'EDAD', (-20,0.095,0), 1, lambda s: abs(s.round(1)))] #(6,1.5, [lambda s: s.round(0)]), # Round (0)\n",
    "}"
   ]
  },
  {
   "cell_type": "code",
   "execution_count": 10,
   "metadata": {},
   "outputs": [
    {
     "name": "stdout",
     "output_type": "stream",
     "text": [
      "First time for MINUTES_DH\n",
      "First time for EXPERIENCIA\n"
     ]
    }
   ],
   "source": [
    "for name, relations in depend.items():\n",
    "    #print(name,relations)\n",
    "    y = np.array([])\n",
    "    for rela in relations:\n",
    "        f, x, t, r, lam = rela\n",
    "        if len(y) == 0:\n",
    "            print(f\"First time for {name}\")\n",
    "            y = np.array([f(num,t,r) for num in dataset[x]])\n",
    "        else:\n",
    "            y = y + np.array([f(num,t,r) for num in dataset[x]])\n",
    "        \n",
    "        if lam is not None:\n",
    "            y = lam(y)\n",
    "    \n",
    "    dataset[name] = y"
   ]
  },
  {
   "cell_type": "code",
   "execution_count": 11,
   "metadata": {},
   "outputs": [
    {
     "data": {
      "text/html": [
       "<div>\n",
       "<style scoped>\n",
       "    .dataframe tbody tr th:only-of-type {\n",
       "        vertical-align: middle;\n",
       "    }\n",
       "\n",
       "    .dataframe tbody tr th {\n",
       "        vertical-align: top;\n",
       "    }\n",
       "\n",
       "    .dataframe thead th {\n",
       "        text-align: right;\n",
       "    }\n",
       "</style>\n",
       "<table border=\"1\" class=\"dataframe\">\n",
       "  <thead>\n",
       "    <tr style=\"text-align: right;\">\n",
       "      <th></th>\n",
       "      <th>EDAD</th>\n",
       "      <th>GENERO</th>\n",
       "      <th>RESIDENCIA</th>\n",
       "      <th>NV_ESTUDIO</th>\n",
       "      <th>ESTUDIO_PREV</th>\n",
       "      <th>TRACK_DH</th>\n",
       "      <th>AVG_DH</th>\n",
       "      <th>MINUTES_DH</th>\n",
       "      <th>EXPERIENCIA</th>\n",
       "    </tr>\n",
       "  </thead>\n",
       "  <tbody>\n",
       "    <tr>\n",
       "      <th>0</th>\n",
       "      <td>43.0</td>\n",
       "      <td>1.0</td>\n",
       "      <td>2.0</td>\n",
       "      <td>3.0</td>\n",
       "      <td>3.0</td>\n",
       "      <td>3.0</td>\n",
       "      <td>3.8</td>\n",
       "      <td>4557.9</td>\n",
       "      <td>28.7</td>\n",
       "    </tr>\n",
       "    <tr>\n",
       "      <th>1</th>\n",
       "      <td>42.0</td>\n",
       "      <td>0.0</td>\n",
       "      <td>0.0</td>\n",
       "      <td>2.0</td>\n",
       "      <td>4.0</td>\n",
       "      <td>2.0</td>\n",
       "      <td>3.5</td>\n",
       "      <td>4656.2</td>\n",
       "      <td>25.6</td>\n",
       "    </tr>\n",
       "    <tr>\n",
       "      <th>2</th>\n",
       "      <td>35.0</td>\n",
       "      <td>0.0</td>\n",
       "      <td>2.0</td>\n",
       "      <td>2.0</td>\n",
       "      <td>2.0</td>\n",
       "      <td>3.0</td>\n",
       "      <td>4.0</td>\n",
       "      <td>4695.2</td>\n",
       "      <td>19.0</td>\n",
       "    </tr>\n",
       "    <tr>\n",
       "      <th>3</th>\n",
       "      <td>35.0</td>\n",
       "      <td>1.0</td>\n",
       "      <td>1.0</td>\n",
       "      <td>1.0</td>\n",
       "      <td>2.0</td>\n",
       "      <td>0.0</td>\n",
       "      <td>4.1</td>\n",
       "      <td>4778.2</td>\n",
       "      <td>18.4</td>\n",
       "    </tr>\n",
       "    <tr>\n",
       "      <th>4</th>\n",
       "      <td>36.0</td>\n",
       "      <td>1.0</td>\n",
       "      <td>0.0</td>\n",
       "      <td>3.0</td>\n",
       "      <td>4.0</td>\n",
       "      <td>3.0</td>\n",
       "      <td>4.0</td>\n",
       "      <td>4722.3</td>\n",
       "      <td>19.1</td>\n",
       "    </tr>\n",
       "  </tbody>\n",
       "</table>\n",
       "</div>"
      ],
      "text/plain": [
       "   EDAD  GENERO  RESIDENCIA  NV_ESTUDIO  ESTUDIO_PREV  TRACK_DH  AVG_DH  \\\n",
       "0  43.0     1.0         2.0         3.0           3.0       3.0     3.8   \n",
       "1  42.0     0.0         0.0         2.0           4.0       2.0     3.5   \n",
       "2  35.0     0.0         2.0         2.0           2.0       3.0     4.0   \n",
       "3  35.0     1.0         1.0         1.0           2.0       0.0     4.1   \n",
       "4  36.0     1.0         0.0         3.0           4.0       3.0     4.0   \n",
       "\n",
       "   MINUTES_DH  EXPERIENCIA  \n",
       "0      4557.9         28.7  \n",
       "1      4656.2         25.6  \n",
       "2      4695.2         19.0  \n",
       "3      4778.2         18.4  \n",
       "4      4722.3         19.1  "
      ]
     },
     "execution_count": 11,
     "metadata": {},
     "output_type": "execute_result"
    }
   ],
   "source": [
    "dataset.head()\n",
    "#min(dataset['EXPERIENCIA'])"
   ]
  },
  {
   "cell_type": "code",
   "execution_count": 12,
   "metadata": {},
   "outputs": [
    {
     "data": {
      "image/png": "[encoded data removed]",
      "text/plain": [
       "<Figure size 432x288 with 1 Axes>"
      ]
     },
     "metadata": {
      "needs_background": "light"
     },
     "output_type": "display_data"
    }
   ],
   "source": [
    "plt.scatter(dataset['EDAD'], dataset['EXPERIENCIA'], color = 'red')\n",
    "#plt.plot(x, y, color = 'blue')\n",
    "plt.title('x vs y (Training set)')\n",
    "plt.xlabel('EDAD')\n",
    "plt.ylabel('EXPERIENCIA')\n",
    "plt.show()"
   ]
  },
  {
   "source": [
    "## Defining the TARGET"
   ],
   "cell_type": "markdown",
   "metadata": {}
  },
  {
   "cell_type": "code",
   "execution_count": 13,
   "metadata": {},
   "outputs": [],
   "source": [
    "\n",
    "target = [\n",
    "    (eval_sin, 'EDAD', (-10,0.1,10), 1),\n",
    "    (eval_line, 'GENERO', (-10,10), 1),\n",
    "    (eval_sigmoid, 'NV_ESTUDIO', (-20,5/max(dataset['NV_ESTUDIO']),20), 1),\n",
    "    (eval_sin, 'ESTUDIO_PREV', (-10,0.5,10), 0.5),\n",
    "    (eval_sigmoid, 'EXPERIENCIA', (-20,5/max(dataset['EXPERIENCIA']),20), 1),\n",
    "    (eval_sigmoid, 'MINUTES_DH', (-20,5/max(dataset['MINUTES_DH']),20), 1),\n",
    "]\n",
    "\n",
    "#print(len(target))"
   ]
  },
  {
   "cell_type": "code",
   "execution_count": 16,
   "metadata": {},
   "outputs": [],
   "source": [
    "output = []\n",
    "for relation in target:\n",
    "    f, x, t, r = relation\n",
    "    if len(output) == 0:\n",
    "        output =  np.array([f(num,t,r) for num in dataset[x]])\n",
    "    else:\n",
    "        output = output + np.array([f(num,t,r) for num in dataset[x]])\n",
    "        \n",
    "output = output.round(0) + 70"
   ]
  },
  {
   "cell_type": "code",
   "execution_count": 17,
   "metadata": {},
   "outputs": [
    {
     "data": {
      "image/png": "[encoded data removed]",
      "text/plain": [
       "<Figure size 432x288 with 1 Axes>"
      ]
     },
     "metadata": {
      "needs_background": "light"
     },
     "output_type": "display_data"
    }
   ],
   "source": [
    "plt.scatter(dataset['NV_ESTUDIO'], output, color = 'red')\n",
    "#plt.plot(x, y, color = 'blue')\n",
    "plt.title('x vs y (Training set)')\n",
    "plt.xlabel('EXPERIENCIA')\n",
    "plt.ylabel('DAYS')\n",
    "plt.show()"
   ]
  },
  {
   "cell_type": "code",
   "execution_count": 18,
   "metadata": {},
   "outputs": [
    {
     "name": "stdout",
     "output_type": "stream",
     "text": [
      "91.469 5.848849374022211\n"
     ]
    }
   ],
   "source": [
    "mu = output.mean()    \n",
    "sigma =output.std()\n",
    "print(mu,sigma)"
   ]
  },
  {
   "cell_type": "code",
   "execution_count": 19,
   "metadata": {},
   "outputs": [
    {
     "data": {
      "image/png": "[encoded data removed]",
      "text/plain": [
       "<Figure size 432x288 with 1 Axes>"
      ]
     },
     "metadata": {
      "needs_background": "light"
     },
     "output_type": "display_data"
    }
   ],
   "source": [
    "count, bins, ignored = plt.hist(output, 30, density=True)\n",
    "plt.plot(bins, 1/(sigma * np.sqrt(2 * np.pi)) *\n",
    "np.exp( - (bins - mu)**2 / (2 * sigma**2) ),\n",
    "linewidth=2, color='r')\n",
    "plt.show()"
   ]
  },
  {
   "source": [
    "## Encode numerical values into discrete variables"
   ],
   "cell_type": "markdown",
   "metadata": {}
  },
  {
   "cell_type": "code",
   "execution_count": 20,
   "metadata": {},
   "outputs": [],
   "source": [
    "df_exp = dataset.copy()"
   ]
  },
  {
   "cell_type": "code",
   "execution_count": 21,
   "metadata": {},
   "outputs": [],
   "source": [
    "cleanup_nums = {\"GENERO\":     {1: \"MASCULINO\", 0: \"FEMENINO\"},\n",
    "                \"RESIDENCIA\": {2: \"ARGENTINA\", 1: \"MEXICO\", 0: \"BRAZIL\"},\n",
    "                \"NV_ESTUDIO\": {3: \"POST_GRADUATE\",  2: \"UNIVERSITARY\", 1: \"TERTIARY\", 0: \"HIGH_SCHOOL\"},\n",
    "                \"ESTUDIO_PREV\": {5: \"BUSINESS\", 4: \"COMMERCIAL\", 3: \"ENGINEERING\", 2: \"DEVELOPMENT\"\n",
    "                                , 1: \"MARKETING\", 0: \"OTHER\"},\n",
    "                \"TRACK_DH\": {3: \"PROGRAMACION\", 2: \"DATA\", 1: \"EJECUTIVO\", 0: \"MARKETING\"},\n",
    "               }"
   ]
  },
  {
   "cell_type": "code",
   "execution_count": 22,
   "metadata": {},
   "outputs": [
    {
     "data": {
      "text/html": [
       "<div>\n",
       "<style scoped>\n",
       "    .dataframe tbody tr th:only-of-type {\n",
       "        vertical-align: middle;\n",
       "    }\n",
       "\n",
       "    .dataframe tbody tr th {\n",
       "        vertical-align: top;\n",
       "    }\n",
       "\n",
       "    .dataframe thead th {\n",
       "        text-align: right;\n",
       "    }\n",
       "</style>\n",
       "<table border=\"1\" class=\"dataframe\">\n",
       "  <thead>\n",
       "    <tr style=\"text-align: right;\">\n",
       "      <th></th>\n",
       "      <th>EDAD</th>\n",
       "      <th>GENERO</th>\n",
       "      <th>RESIDENCIA</th>\n",
       "      <th>NV_ESTUDIO</th>\n",
       "      <th>ESTUDIO_PREV</th>\n",
       "      <th>TRACK_DH</th>\n",
       "      <th>AVG_DH</th>\n",
       "      <th>MINUTES_DH</th>\n",
       "      <th>EXPERIENCIA</th>\n",
       "    </tr>\n",
       "  </thead>\n",
       "  <tbody>\n",
       "    <tr>\n",
       "      <th>0</th>\n",
       "      <td>43.0</td>\n",
       "      <td>MASCULINO</td>\n",
       "      <td>ARGENTINA</td>\n",
       "      <td>POST_GRADUATE</td>\n",
       "      <td>ENGINEERING</td>\n",
       "      <td>PROGRAMACION</td>\n",
       "      <td>3.8</td>\n",
       "      <td>4557.9</td>\n",
       "      <td>28.7</td>\n",
       "    </tr>\n",
       "    <tr>\n",
       "      <th>1</th>\n",
       "      <td>42.0</td>\n",
       "      <td>FEMENINO</td>\n",
       "      <td>BRAZIL</td>\n",
       "      <td>UNIVERSITARY</td>\n",
       "      <td>COMMERCIAL</td>\n",
       "      <td>DATA</td>\n",
       "      <td>3.5</td>\n",
       "      <td>4656.2</td>\n",
       "      <td>25.6</td>\n",
       "    </tr>\n",
       "    <tr>\n",
       "      <th>2</th>\n",
       "      <td>35.0</td>\n",
       "      <td>FEMENINO</td>\n",
       "      <td>ARGENTINA</td>\n",
       "      <td>UNIVERSITARY</td>\n",
       "      <td>DEVELOPMENT</td>\n",
       "      <td>PROGRAMACION</td>\n",
       "      <td>4.0</td>\n",
       "      <td>4695.2</td>\n",
       "      <td>19.0</td>\n",
       "    </tr>\n",
       "    <tr>\n",
       "      <th>3</th>\n",
       "      <td>35.0</td>\n",
       "      <td>MASCULINO</td>\n",
       "      <td>MEXICO</td>\n",
       "      <td>TERTIARY</td>\n",
       "      <td>DEVELOPMENT</td>\n",
       "      <td>MARKETING</td>\n",
       "      <td>4.1</td>\n",
       "      <td>4778.2</td>\n",
       "      <td>18.4</td>\n",
       "    </tr>\n",
       "    <tr>\n",
       "      <th>4</th>\n",
       "      <td>36.0</td>\n",
       "      <td>MASCULINO</td>\n",
       "      <td>BRAZIL</td>\n",
       "      <td>POST_GRADUATE</td>\n",
       "      <td>COMMERCIAL</td>\n",
       "      <td>PROGRAMACION</td>\n",
       "      <td>4.0</td>\n",
       "      <td>4722.3</td>\n",
       "      <td>19.1</td>\n",
       "    </tr>\n",
       "  </tbody>\n",
       "</table>\n",
       "</div>"
      ],
      "text/plain": [
       "   EDAD     GENERO RESIDENCIA     NV_ESTUDIO ESTUDIO_PREV      TRACK_DH  \\\n",
       "0  43.0  MASCULINO  ARGENTINA  POST_GRADUATE  ENGINEERING  PROGRAMACION   \n",
       "1  42.0   FEMENINO     BRAZIL   UNIVERSITARY   COMMERCIAL          DATA   \n",
       "2  35.0   FEMENINO  ARGENTINA   UNIVERSITARY  DEVELOPMENT  PROGRAMACION   \n",
       "3  35.0  MASCULINO     MEXICO       TERTIARY  DEVELOPMENT     MARKETING   \n",
       "4  36.0  MASCULINO     BRAZIL  POST_GRADUATE   COMMERCIAL  PROGRAMACION   \n",
       "\n",
       "   AVG_DH  MINUTES_DH  EXPERIENCIA  \n",
       "0     3.8      4557.9         28.7  \n",
       "1     3.5      4656.2         25.6  \n",
       "2     4.0      4695.2         19.0  \n",
       "3     4.1      4778.2         18.4  \n",
       "4     4.0      4722.3         19.1  "
      ]
     },
     "execution_count": 22,
     "metadata": {},
     "output_type": "execute_result"
    }
   ],
   "source": [
    "df_exp.replace(cleanup_nums, inplace=True)\n",
    "df_exp.head()"
   ]
  },
  {
   "cell_type": "code",
   "execution_count": 23,
   "metadata": {},
   "outputs": [
    {
     "data": {
      "text/plain": [
       "UNIVERSITARY     604\n",
       "POST_GRADUATE    240\n",
       "TERTIARY         148\n",
       "HIGH_SCHOOL        8\n",
       "Name: NV_ESTUDIO, dtype: int64"
      ]
     },
     "execution_count": 23,
     "metadata": {},
     "output_type": "execute_result"
    }
   ],
   "source": [
    "df_exp[\"NV_ESTUDIO\"].value_counts()"
   ]
  },
  {
   "source": [
    "## Adding some nulls"
   ],
   "cell_type": "markdown",
   "metadata": {}
  },
  {
   "cell_type": "code",
   "execution_count": 24,
   "metadata": {},
   "outputs": [
    {
     "name": "stdout",
     "output_type": "stream",
     "text": [
      "<class 'pandas.core.frame.DataFrame'>\n",
      "RangeIndex: 1000 entries, 0 to 999\n",
      "Data columns (total 9 columns):\n",
      "EDAD            861 non-null float64\n",
      "GENERO          868 non-null object\n",
      "RESIDENCIA      831 non-null object\n",
      "NV_ESTUDIO      865 non-null object\n",
      "ESTUDIO_PREV    862 non-null object\n",
      "TRACK_DH        847 non-null object\n",
      "AVG_DH          840 non-null float64\n",
      "MINUTES_DH      836 non-null float64\n",
      "EXPERIENCIA     855 non-null float64\n",
      "dtypes: float64(4), object(5)\n",
      "memory usage: 70.4+ KB\n",
      "None\n"
     ]
    }
   ],
   "source": [
    "df_p = df_exp.mask(np.random.random(df_exp.shape)<0.15)\n",
    "print(df_p.info())"
   ]
  },
  {
   "cell_type": "code",
   "execution_count": 25,
   "metadata": {},
   "outputs": [],
   "source": [
    "df_p[\"DIAS_EMP\"] = output"
   ]
  },
  {
   "cell_type": "code",
   "execution_count": 26,
   "metadata": {},
   "outputs": [],
   "source": [
    "df_p.to_csv('dh_validator_v2.csv')"
   ]
  },
  {
   "cell_type": "code",
   "execution_count": 27,
   "metadata": {},
   "outputs": [
    {
     "data": {
      "text/html": [
       "<div>\n",
       "<style scoped>\n",
       "    .dataframe tbody tr th:only-of-type {\n",
       "        vertical-align: middle;\n",
       "    }\n",
       "\n",
       "    .dataframe tbody tr th {\n",
       "        vertical-align: top;\n",
       "    }\n",
       "\n",
       "    .dataframe thead th {\n",
       "        text-align: right;\n",
       "    }\n",
       "</style>\n",
       "<table border=\"1\" class=\"dataframe\">\n",
       "  <thead>\n",
       "    <tr style=\"text-align: right;\">\n",
       "      <th></th>\n",
       "      <th>EDAD</th>\n",
       "      <th>GENERO</th>\n",
       "      <th>RESIDENCIA</th>\n",
       "      <th>NV_ESTUDIO</th>\n",
       "      <th>ESTUDIO_PREV</th>\n",
       "      <th>TRACK_DH</th>\n",
       "      <th>AVG_DH</th>\n",
       "      <th>MINUTES_DH</th>\n",
       "      <th>EXPERIENCIA</th>\n",
       "      <th>DIAS_EMP</th>\n",
       "    </tr>\n",
       "  </thead>\n",
       "  <tbody>\n",
       "    <tr>\n",
       "      <th>0</th>\n",
       "      <td>43.0</td>\n",
       "      <td>MASCULINO</td>\n",
       "      <td>ARGENTINA</td>\n",
       "      <td>POST_GRADUATE</td>\n",
       "      <td>ENGINEERING</td>\n",
       "      <td>PROGRAMACION</td>\n",
       "      <td>3.8</td>\n",
       "      <td>4557.9</td>\n",
       "      <td>NaN</td>\n",
       "      <td>92.0</td>\n",
       "    </tr>\n",
       "    <tr>\n",
       "      <th>1</th>\n",
       "      <td>42.0</td>\n",
       "      <td>FEMENINO</td>\n",
       "      <td>BRAZIL</td>\n",
       "      <td>UNIVERSITARY</td>\n",
       "      <td>COMMERCIAL</td>\n",
       "      <td>DATA</td>\n",
       "      <td>3.5</td>\n",
       "      <td>4656.2</td>\n",
       "      <td>25.6</td>\n",
       "      <td>101.0</td>\n",
       "    </tr>\n",
       "    <tr>\n",
       "      <th>2</th>\n",
       "      <td>35.0</td>\n",
       "      <td>FEMENINO</td>\n",
       "      <td>ARGENTINA</td>\n",
       "      <td>UNIVERSITARY</td>\n",
       "      <td>DEVELOPMENT</td>\n",
       "      <td>NaN</td>\n",
       "      <td>4.0</td>\n",
       "      <td>4695.2</td>\n",
       "      <td>19.0</td>\n",
       "      <td>98.0</td>\n",
       "    </tr>\n",
       "    <tr>\n",
       "      <th>3</th>\n",
       "      <td>35.0</td>\n",
       "      <td>NaN</td>\n",
       "      <td>MEXICO</td>\n",
       "      <td>TERTIARY</td>\n",
       "      <td>DEVELOPMENT</td>\n",
       "      <td>MARKETING</td>\n",
       "      <td>4.1</td>\n",
       "      <td>4778.2</td>\n",
       "      <td>18.4</td>\n",
       "      <td>91.0</td>\n",
       "    </tr>\n",
       "    <tr>\n",
       "      <th>4</th>\n",
       "      <td>36.0</td>\n",
       "      <td>MASCULINO</td>\n",
       "      <td>NaN</td>\n",
       "      <td>POST_GRADUATE</td>\n",
       "      <td>COMMERCIAL</td>\n",
       "      <td>PROGRAMACION</td>\n",
       "      <td>4.0</td>\n",
       "      <td>4722.3</td>\n",
       "      <td>19.1</td>\n",
       "      <td>87.0</td>\n",
       "    </tr>\n",
       "  </tbody>\n",
       "</table>\n",
       "</div>"
      ],
      "text/plain": [
       "   EDAD     GENERO RESIDENCIA     NV_ESTUDIO ESTUDIO_PREV      TRACK_DH  \\\n",
       "0  43.0  MASCULINO  ARGENTINA  POST_GRADUATE  ENGINEERING  PROGRAMACION   \n",
       "1  42.0   FEMENINO     BRAZIL   UNIVERSITARY   COMMERCIAL          DATA   \n",
       "2  35.0   FEMENINO  ARGENTINA   UNIVERSITARY  DEVELOPMENT           NaN   \n",
       "3  35.0        NaN     MEXICO       TERTIARY  DEVELOPMENT     MARKETING   \n",
       "4  36.0  MASCULINO        NaN  POST_GRADUATE   COMMERCIAL  PROGRAMACION   \n",
       "\n",
       "   AVG_DH  MINUTES_DH  EXPERIENCIA  DIAS_EMP  \n",
       "0     3.8      4557.9          NaN      92.0  \n",
       "1     3.5      4656.2         25.6     101.0  \n",
       "2     4.0      4695.2         19.0      98.0  \n",
       "3     4.1      4778.2         18.4      91.0  \n",
       "4     4.0      4722.3         19.1      87.0  "
      ]
     },
     "execution_count": 27,
     "metadata": {},
     "output_type": "execute_result"
    }
   ],
   "source": [
    "df_p.head()"
   ]
  }
 ],
 "metadata": {
  "kernelspec": {
   "display_name": "Python 3.7.3 64-bit ('base': conda)",
   "language": "python",
   "name": "python37364bitbaseconda4188ac4a2acb4c78ab0e95f46fa83147"
  },
  "language_info": {
   "codemirror_mode": {
    "name": "ipython",
    "version": 3
   },
   "file_extension": ".py",
   "mimetype": "text/x-python",
   "name": "python",
   "nbconvert_exporter": "python",
   "pygments_lexer": "ipython3",
   "version": "3.7.3"
  }
 },
 "nbformat": 4,
 "nbformat_minor": 2
}